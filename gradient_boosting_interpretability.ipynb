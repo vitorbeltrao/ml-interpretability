{
 "cells": [
  {
   "cell_type": "markdown",
   "metadata": {},
   "source": [
    "# Interpretability of a gradient boosting model\n",
    "\n",
    "Interpret means to \"explain\" or to present in understandable terms. The ability to express in understandable terms, what the \n",
    "model has learned and the reasons that affect their output.\n",
    "\n",
    "Interpretability is about the extent to which a cause and effect can be observed within a system. Or to put it another way, it is the extent to which you are able to predict what is going to happen, given a change in input or algorithmic parameters. It's being able to understand which inputs are the most predictive (i.e., impact the prediction/output the most), and anticipate how predictions will change with differing inputs.\n",
    "\n",
    "* If a customer is rejected a loan, we can say why\n",
    "* If an insurance provides a certain premium, we know the reasons.\n",
    "* If we diagnose a patient with a certain disease, we can tell them why\n",
    "\n",
    "## Fit a gradient boosting model and make global and local explanations\n",
    "\n",
    "Predict whether a student will dropout from their class.\n",
    "\n",
    "The workflow is the following:\n",
    "\n",
    "- Exploratory data analysis\n",
    "- Identify variables that are good predictors of the target.\n",
    "- Identify and remove high multi-colinearity among the predictors.\n",
    "- preprocessing features\n",
    "- Fit a gradient boosting model\n",
    "- Hyperparameter tuning\n",
    "- Global Interpretation\n",
    "- Re-train the decision tree\n",
    "- Local Interpretation\n",
    "- Conclusion"
   ]
  },
  {
   "cell_type": "code",
   "execution_count": 28,
   "metadata": {},
   "outputs": [],
   "source": [
    "# imports\n",
    "import warnings\n",
    "warnings.filterwarnings(\"ignore\")\n",
    "\n",
    "import sweetviz as sv\n",
    "import pandas as pd\n",
    "import numpy as np\n",
    "from itertools import product\n",
    "import matplotlib.pyplot as plt\n",
    "import seaborn as sns\n",
    "import math\n",
    "\n",
    "import scipy.stats as ss\n",
    "from scipy import stats\n",
    "from scipy.stats.contingency import association\n",
    "from statsmodels.stats.outliers_influence import variance_inflation_factor\n",
    "from treeinterpreter import treeinterpreter as ti\n",
    "\n",
    "from sklearn.model_selection import GridSearchCV, cross_validate\n",
    "from sklearn.pipeline import Pipeline, make_pipeline\n",
    "from sklearn.compose import ColumnTransformer\n",
    "from sklearn.preprocessing import OneHotEncoder\n",
    "from sklearn.ensemble import GradientBoostingClassifier\n",
    "from sklearn.tree import plot_tree\n",
    "from sklearn.base import BaseEstimator, TransformerMixin\n",
    "from sklearn.impute import SimpleImputer"
   ]
  },
  {
   "cell_type": "markdown",
   "metadata": {},
   "source": [
    "## Load data"
   ]
  },
  {
   "cell_type": "code",
   "execution_count": 2,
   "metadata": {},
   "outputs": [
    {
     "data": {
      "text/html": [
       "<div>\n",
       "<style scoped>\n",
       "    .dataframe tbody tr th:only-of-type {\n",
       "        vertical-align: middle;\n",
       "    }\n",
       "\n",
       "    .dataframe tbody tr th {\n",
       "        vertical-align: top;\n",
       "    }\n",
       "\n",
       "    .dataframe thead th {\n",
       "        text-align: right;\n",
       "    }\n",
       "</style>\n",
       "<table border=\"1\" class=\"dataframe\">\n",
       "  <thead>\n",
       "    <tr style=\"text-align: right;\">\n",
       "      <th></th>\n",
       "      <th>PassengerId</th>\n",
       "      <th>Survived</th>\n",
       "      <th>Pclass</th>\n",
       "      <th>Name</th>\n",
       "      <th>Sex</th>\n",
       "      <th>Age</th>\n",
       "      <th>SibSp</th>\n",
       "      <th>Parch</th>\n",
       "      <th>Ticket</th>\n",
       "      <th>Fare</th>\n",
       "      <th>Cabin</th>\n",
       "      <th>Embarked</th>\n",
       "    </tr>\n",
       "  </thead>\n",
       "  <tbody>\n",
       "    <tr>\n",
       "      <th>0</th>\n",
       "      <td>1</td>\n",
       "      <td>0</td>\n",
       "      <td>3</td>\n",
       "      <td>Braund, Mr. Owen Harris</td>\n",
       "      <td>male</td>\n",
       "      <td>22.0</td>\n",
       "      <td>1</td>\n",
       "      <td>0</td>\n",
       "      <td>A/5 21171</td>\n",
       "      <td>7.2500</td>\n",
       "      <td>NaN</td>\n",
       "      <td>S</td>\n",
       "    </tr>\n",
       "    <tr>\n",
       "      <th>1</th>\n",
       "      <td>2</td>\n",
       "      <td>1</td>\n",
       "      <td>1</td>\n",
       "      <td>Cumings, Mrs. John Bradley (Florence Briggs Th...</td>\n",
       "      <td>female</td>\n",
       "      <td>38.0</td>\n",
       "      <td>1</td>\n",
       "      <td>0</td>\n",
       "      <td>PC 17599</td>\n",
       "      <td>71.2833</td>\n",
       "      <td>C85</td>\n",
       "      <td>C</td>\n",
       "    </tr>\n",
       "    <tr>\n",
       "      <th>2</th>\n",
       "      <td>3</td>\n",
       "      <td>1</td>\n",
       "      <td>3</td>\n",
       "      <td>Heikkinen, Miss. Laina</td>\n",
       "      <td>female</td>\n",
       "      <td>26.0</td>\n",
       "      <td>0</td>\n",
       "      <td>0</td>\n",
       "      <td>STON/O2. 3101282</td>\n",
       "      <td>7.9250</td>\n",
       "      <td>NaN</td>\n",
       "      <td>S</td>\n",
       "    </tr>\n",
       "    <tr>\n",
       "      <th>3</th>\n",
       "      <td>4</td>\n",
       "      <td>1</td>\n",
       "      <td>1</td>\n",
       "      <td>Futrelle, Mrs. Jacques Heath (Lily May Peel)</td>\n",
       "      <td>female</td>\n",
       "      <td>35.0</td>\n",
       "      <td>1</td>\n",
       "      <td>0</td>\n",
       "      <td>113803</td>\n",
       "      <td>53.1000</td>\n",
       "      <td>C123</td>\n",
       "      <td>S</td>\n",
       "    </tr>\n",
       "    <tr>\n",
       "      <th>4</th>\n",
       "      <td>5</td>\n",
       "      <td>0</td>\n",
       "      <td>3</td>\n",
       "      <td>Allen, Mr. William Henry</td>\n",
       "      <td>male</td>\n",
       "      <td>35.0</td>\n",
       "      <td>0</td>\n",
       "      <td>0</td>\n",
       "      <td>373450</td>\n",
       "      <td>8.0500</td>\n",
       "      <td>NaN</td>\n",
       "      <td>S</td>\n",
       "    </tr>\n",
       "  </tbody>\n",
       "</table>\n",
       "</div>"
      ],
      "text/plain": [
       "   PassengerId  Survived  Pclass  \\\n",
       "0            1         0       3   \n",
       "1            2         1       1   \n",
       "2            3         1       3   \n",
       "3            4         1       1   \n",
       "4            5         0       3   \n",
       "\n",
       "                                                Name     Sex   Age  SibSp  \\\n",
       "0                            Braund, Mr. Owen Harris    male  22.0      1   \n",
       "1  Cumings, Mrs. John Bradley (Florence Briggs Th...  female  38.0      1   \n",
       "2                             Heikkinen, Miss. Laina  female  26.0      0   \n",
       "3       Futrelle, Mrs. Jacques Heath (Lily May Peel)  female  35.0      1   \n",
       "4                           Allen, Mr. William Henry    male  35.0      0   \n",
       "\n",
       "   Parch            Ticket     Fare Cabin Embarked  \n",
       "0      0         A/5 21171   7.2500   NaN        S  \n",
       "1      0          PC 17599  71.2833   C85        C  \n",
       "2      0  STON/O2. 3101282   7.9250   NaN        S  \n",
       "3      0            113803  53.1000  C123        S  \n",
       "4      0            373450   8.0500   NaN        S  "
      ]
     },
     "execution_count": 2,
     "metadata": {},
     "output_type": "execute_result"
    }
   ],
   "source": [
    "train_set = pd.read_csv('datasets/train.csv')\n",
    "test_set = pd.read_csv('datasets/test.csv')\n",
    "train_set.head()"
   ]
  },
  {
   "cell_type": "markdown",
   "metadata": {},
   "source": [
    "## Exploratory data analysis\n",
    "\n",
    "This topic we gonna work in an exploration to see what we should do with this data to be able to go to the next steps, readers can skip this step if you are interested just in the model interpretation step.\n",
    "\n",
    "[Link to the dataset](https://www.kaggle.com/competitions/titanic)\n",
    "\n",
    "Obs: we don't gonna make an extensive and deep exploratory, because the goal of this notebook is to show how to interpret the models, but in a real project, you should go deeper in the exploration and extract many information as possible."
   ]
  },
  {
   "cell_type": "markdown",
   "metadata": {},
   "source": [
    "### Univariate data analysis\n",
    "\n",
    "For this step, we gonna use a very nice tool to make the things faster that is [sweetviz](https://pypi.org/project/sweetviz/) tool. If you don't know the tool, have a look in the documentation!"
   ]
  },
  {
   "cell_type": "code",
   "execution_count": 3,
   "metadata": {},
   "outputs": [
    {
     "name": "stderr",
     "output_type": "stream",
     "text": [
      "                                             |          | [  0%]   00:00 -> (? left)"
     ]
    },
    {
     "name": "stderr",
     "output_type": "stream",
     "text": [
      "Done! Use 'show' commands to display/save.   |██████████| [100%]   00:00 -> (00:00 left)\n"
     ]
    },
    {
     "name": "stdout",
     "output_type": "stream",
     "text": [
      "Report SWEETVIZ_REPORT.html was generated! NOTEBOOK/COLAB USERS: the web browser MAY not pop up, regardless, the report IS saved in your notebook/colab files.\n"
     ]
    }
   ],
   "source": [
    "my_report = sv.analyze(train_set, 'Survived')\n",
    "my_report.show_html() # Default arguments will generate to \"SWEETVIZ_REPORT.html\""
   ]
  },
  {
   "cell_type": "markdown",
   "metadata": {},
   "source": [
    "### Bivariate Data Analysis\n",
    "\n",
    "Here we will deal with the descriptive analysis of the **association** between two variables. **In general, we say that there is an association between two variables if knowledge of the value of one of them gives us some information about some characteristic of the distribution (of frequencies) of the other.**\n",
    "\n",
    "*We can highlight three cases:*\n",
    "\n",
    "1. both variables are qualitative.\n",
    "2. both variables are quantitative.\n",
    "3. one variable is qualitative and the other is quantitative."
   ]
  },
  {
   "cell_type": "markdown",
   "metadata": {},
   "source": [
    "#### Two qualitative variables and evaluate multicollinearity\n",
    "\n",
    "Here the idea is to check the correlation between two qualitative variables.\n",
    "\n",
    "What are the consequences of multicollinearity?\n",
    "\n",
    "If two variables are perfectly collinear, in other words, if they have correlation coefficient equal to 1, then what happens is that there is an infinite combination of coefficients (betas) that would work equally well. So basically we have an infinite number of linear regression models that will predict equally well the target from these two perfectly collinear variables. Which means that we are not able to understand what is the real relationship between those variables and the target.\n",
    "\n",
    "* Perfect collinearity is rare\n",
    "* Partial collinearity is unavoidable\n",
    "\n",
    "So what happens is that when we have correlated variables, one of the therms (feature x coefficient) will account for a degree of the variability, and then the other therm basically accounts for the remaining variability that is not explained, but in both cases the coefficient doesn't really represent the real if you want association between the variable and the target."
   ]
  },
  {
   "cell_type": "code",
   "execution_count": 4,
   "metadata": {},
   "outputs": [],
   "source": [
    "# select qualitative features\n",
    "qualitative_features_enconding = [\n",
    "    'Embarked',\n",
    "    'Sex'\n",
    "]\n",
    "\n",
    "qualitative_binary_passthrough = [\n",
    "    'Pclass'\n",
    "]\n",
    "\n",
    "target = ['Survived']\n",
    "\n",
    "qualitative_vars = qualitative_features_enconding + qualitative_binary_passthrough + target"
   ]
  },
  {
   "cell_type": "code",
   "execution_count": 5,
   "metadata": {},
   "outputs": [
    {
     "data": {
      "text/html": [
       "<div>\n",
       "<style scoped>\n",
       "    .dataframe tbody tr th:only-of-type {\n",
       "        vertical-align: middle;\n",
       "    }\n",
       "\n",
       "    .dataframe tbody tr th {\n",
       "        vertical-align: top;\n",
       "    }\n",
       "\n",
       "    .dataframe thead th {\n",
       "        text-align: right;\n",
       "    }\n",
       "</style>\n",
       "<table border=\"1\" class=\"dataframe\">\n",
       "  <thead>\n",
       "    <tr style=\"text-align: right;\">\n",
       "      <th></th>\n",
       "      <th>Variable_1</th>\n",
       "      <th>Variable_2</th>\n",
       "      <th>Chi2_P_Value</th>\n",
       "      <th>Tschuprow</th>\n",
       "    </tr>\n",
       "  </thead>\n",
       "  <tbody>\n",
       "  </tbody>\n",
       "</table>\n",
       "</div>"
      ],
      "text/plain": [
       "Empty DataFrame\n",
       "Columns: [Variable_1, Variable_2, Chi2_P_Value, Tschuprow]\n",
       "Index: []"
      ]
     },
     "execution_count": 5,
     "metadata": {},
     "output_type": "execute_result"
    }
   ],
   "source": [
    "# create a dataframe with only categorical variables\n",
    "categorical_df = train_set[qualitative_vars]\n",
    "\n",
    "# removing records with at least one null value in a row\n",
    "df_cat_v1 = categorical_df.dropna()\n",
    "\n",
    "## let us split this list into two parts\n",
    "cat_var1 = qualitative_vars\n",
    "cat_var2 = qualitative_vars\n",
    "\n",
    "# let us jump to Chi-Square test\n",
    "# creating all possible combinations between the above two variables list\n",
    "cat_var_prod = list(product(cat_var1, cat_var2, repeat = 1))\n",
    "\n",
    "# creating an empty variable and picking only the p value from the output of Chi-Square test\n",
    "result = []\n",
    "for i in cat_var_prod:\n",
    "    if i[0] != i[1]:\n",
    "        contingency_table = pd.crosstab(df_cat_v1[i[0]], df_cat_v1[i[1]])\n",
    "        chi2_pval = ss.chi2_contingency(contingency_table)[1]\n",
    "        tschuprow_pval = association(contingency_table, method='tschuprow')\n",
    "        result.append((i[0], i[1], chi2_pval, tschuprow_pval))\n",
    "\n",
    "# Creating dataframe\n",
    "result_df = pd.DataFrame(result, columns=['Variable_1', 'Variable_2', 'Chi2_P_Value', 'Tschuprow'])\n",
    "\n",
    "# let's filter the values with tschuprow coefficient higher than 0.7 to catch multicollinearity\n",
    "result_df.loc[(result_df['Tschuprow'] >= 0.7)]"
   ]
  },
  {
   "cell_type": "markdown",
   "metadata": {},
   "source": [
    "We do not have highly related variables, which shows us that we do not have multicollinearity between the qualitative variables. Let's now see the correlation between the variables in relation to the target."
   ]
  },
  {
   "cell_type": "code",
   "execution_count": 6,
   "metadata": {},
   "outputs": [
    {
     "data": {
      "text/html": [
       "<div>\n",
       "<style scoped>\n",
       "    .dataframe tbody tr th:only-of-type {\n",
       "        vertical-align: middle;\n",
       "    }\n",
       "\n",
       "    .dataframe tbody tr th {\n",
       "        vertical-align: top;\n",
       "    }\n",
       "\n",
       "    .dataframe thead th {\n",
       "        text-align: right;\n",
       "    }\n",
       "</style>\n",
       "<table border=\"1\" class=\"dataframe\">\n",
       "  <thead>\n",
       "    <tr style=\"text-align: right;\">\n",
       "      <th></th>\n",
       "      <th>Variable_1</th>\n",
       "      <th>Variable_2</th>\n",
       "      <th>Chi2_P_Value</th>\n",
       "      <th>Tschuprow</th>\n",
       "    </tr>\n",
       "  </thead>\n",
       "  <tbody>\n",
       "    <tr>\n",
       "      <th>9</th>\n",
       "      <td>Survived</td>\n",
       "      <td>Embarked</td>\n",
       "      <td>1.769922e-06</td>\n",
       "      <td>0.145153</td>\n",
       "    </tr>\n",
       "    <tr>\n",
       "      <th>11</th>\n",
       "      <td>Survived</td>\n",
       "      <td>Pclass</td>\n",
       "      <td>1.181362e-22</td>\n",
       "      <td>0.283407</td>\n",
       "    </tr>\n",
       "    <tr>\n",
       "      <th>10</th>\n",
       "      <td>Survived</td>\n",
       "      <td>Sex</td>\n",
       "      <td>3.779910e-58</td>\n",
       "      <td>0.541585</td>\n",
       "    </tr>\n",
       "  </tbody>\n",
       "</table>\n",
       "</div>"
      ],
      "text/plain": [
       "   Variable_1 Variable_2  Chi2_P_Value  Tschuprow\n",
       "9    Survived   Embarked  1.769922e-06   0.145153\n",
       "11   Survived     Pclass  1.181362e-22   0.283407\n",
       "10   Survived        Sex  3.779910e-58   0.541585"
      ]
     },
     "execution_count": 6,
     "metadata": {},
     "output_type": "execute_result"
    }
   ],
   "source": [
    "# correlation with the target\n",
    "result_df.loc[\n",
    "    (result_df['Variable_1'] == 'Survived')\n",
    "].sort_values(by=['Tschuprow'])"
   ]
  },
  {
   "cell_type": "markdown",
   "metadata": {},
   "source": [
    "We can see that the variable \"Sex\" has a strong correlation with the target variable, \"Pclass\" does not have a very strong correlation and \"Embarked\" has a weak correlation. Possibly the \"Sex\" variable will make more of a difference to the predictions than the other two. We'll find out more about this later."
   ]
  },
  {
   "cell_type": "markdown",
   "metadata": {},
   "source": [
    "#### Two quantitative variables and evaluate multicollinearity\n",
    "\n",
    "Here the idea is to check the correlation between two quantitative variables and check multicollinearity."
   ]
  },
  {
   "cell_type": "code",
   "execution_count": 7,
   "metadata": {},
   "outputs": [],
   "source": [
    "# select quantitative features\n",
    "quantitative_features = [\n",
    "    'Age', \n",
    "    'SibSp',\n",
    "    'Parch',\n",
    "    'Fare'\n",
    "]\n",
    "\n",
    "quantitative_vars = quantitative_features"
   ]
  },
  {
   "cell_type": "code",
   "execution_count": 8,
   "metadata": {},
   "outputs": [
    {
     "data": {
      "image/png": "[encoded data removed]",
      "text/plain": [
       "<Figure size 500x500 with 2 Axes>"
      ]
     },
     "metadata": {},
     "output_type": "display_data"
    }
   ],
   "source": [
    "# quantitative associations\n",
    "quantitative_df = train_set[quantitative_vars]\n",
    "corr = quantitative_df.corr()\n",
    "plt.figure(figsize=(5,5))\n",
    "sns.heatmap(corr, fmt='.0%', annot=True, square=True)\n",
    "plt.tight_layout()"
   ]
  },
  {
   "cell_type": "code",
   "execution_count": 9,
   "metadata": {},
   "outputs": [
    {
     "data": {
      "text/html": [
       "<div>\n",
       "<style scoped>\n",
       "    .dataframe tbody tr th:only-of-type {\n",
       "        vertical-align: middle;\n",
       "    }\n",
       "\n",
       "    .dataframe tbody tr th {\n",
       "        vertical-align: top;\n",
       "    }\n",
       "\n",
       "    .dataframe thead th {\n",
       "        text-align: right;\n",
       "    }\n",
       "</style>\n",
       "<table border=\"1\" class=\"dataframe\">\n",
       "  <thead>\n",
       "    <tr style=\"text-align: right;\">\n",
       "      <th></th>\n",
       "      <th>features</th>\n",
       "      <th>vif_Factor</th>\n",
       "    </tr>\n",
       "  </thead>\n",
       "  <tbody>\n",
       "    <tr>\n",
       "      <th>3</th>\n",
       "      <td>Fare</td>\n",
       "      <td>1.535595</td>\n",
       "    </tr>\n",
       "    <tr>\n",
       "      <th>2</th>\n",
       "      <td>Parch</td>\n",
       "      <td>1.483994</td>\n",
       "    </tr>\n",
       "    <tr>\n",
       "      <th>1</th>\n",
       "      <td>SibSp</td>\n",
       "      <td>1.438954</td>\n",
       "    </tr>\n",
       "    <tr>\n",
       "      <th>0</th>\n",
       "      <td>Age</td>\n",
       "      <td>1.434323</td>\n",
       "    </tr>\n",
       "  </tbody>\n",
       "</table>\n",
       "</div>"
      ],
      "text/plain": [
       "  features  vif_Factor\n",
       "3     Fare    1.535595\n",
       "2    Parch    1.483994\n",
       "1    SibSp    1.438954\n",
       "0      Age    1.434323"
      ]
     },
     "execution_count": 9,
     "metadata": {},
     "output_type": "execute_result"
    }
   ],
   "source": [
    "# Compute VIF data for each independent variable\n",
    "clean_quantitative_df = quantitative_df.dropna()\n",
    "vif = pd.DataFrame()\n",
    "vif[\"features\"] = clean_quantitative_df.columns\n",
    "vif[\"vif_Factor\"] = [variance_inflation_factor(clean_quantitative_df.values, i) for i in range(clean_quantitative_df.shape[1])]\n",
    "vif.sort_values(by=['vif_Factor'], ascending=False, inplace=True)\n",
    "vif"
   ]
  },
  {
   "cell_type": "markdown",
   "metadata": {},
   "source": [
    "The variables are not highly correlated, which implies that the presence of multicollinearity will not be an obstacle for us."
   ]
  },
  {
   "cell_type": "markdown",
   "metadata": {},
   "source": [
    "#### One qualitative and one quantitative variable\n",
    "\n",
    "Here the idea is to check the correlation between the qualitative and quantitative variable (the target) to see if the qualitative variables have a high influence in the target.\n",
    "\n",
    "To find this, we can use visualization methods, statistical measures, Anova or t-test.\n",
    "\n",
    "In this case, one of the most commonly used hypothesis tests is the t-test, which is used to compare the means of two groups. The t-test is used to determine whether the difference between the means of two groups is statistically significant. Statistical significance refers to the likelihood that the difference between the means is not due to chance. If the difference is statistically significant, it means that there is a high probability that the difference is real and not just due to random variation.\n",
    "\n",
    "This is a test for the null hypothesis that 2 independent samples have identical average (expected) values. This test assumes that the populations have identical variances by default.\n",
    "\n",
    "In the specific case of this project, many of the distributions of quantitative variables do not follow a normal distribution, which is a premise of a t-test. In this case, an alternative to the t-test is the Mann-Whitney test, which is a non-parametric test that also compares the median between two groups and does not assume a specific data distribution."
   ]
  },
  {
   "cell_type": "code",
   "execution_count": 10,
   "metadata": {},
   "outputs": [
    {
     "name": "stdout",
     "output_type": "stream",
     "text": [
      "The quantitative variable is: Age\n",
      "           min   max       mean         var        std\n",
      "Survived                                              \n",
      "0         1.00  74.0  30.626179  200.848698  14.172110\n",
      "1         0.42  80.0  28.343690  223.530965  14.950952\n"
     ]
    },
    {
     "data": {
      "image/png": "[encoded data removed]",
      "text/plain": [
       "<Figure size 600x400 with 1 Axes>"
      ]
     },
     "metadata": {},
     "output_type": "display_data"
    },
    {
     "name": "stdout",
     "output_type": "stream",
     "text": [
      "Mann-Whitney U test for Age:\n",
      "Statistic: nan\n",
      "P-value: nan\n",
      "There is no statistically significant difference in the medians.\n",
      "------------------------------------------------------------------------------------------\n",
      "The quantitative variable is: SibSp\n",
      "          min  max      mean       var       std\n",
      "Survived                                        \n",
      "0           0    8  0.553734  1.659972  1.288399\n",
      "1           0    4  0.473684  0.502238  0.708688\n"
     ]
    },
    {
     "data": {
      "image/png": "[encoded data removed]",
      "text/plain": [
       "<Figure size 600x400 with 1 Axes>"
      ]
     },
     "metadata": {},
     "output_type": "display_data"
    },
    {
     "name": "stdout",
     "output_type": "stream",
     "text": [
      "Mann-Whitney U test for SibSp:\n",
      "Statistic: 101983.0\n",
      "P-value: 0.008016684059168793\n",
      "There is a statistically significant difference in the medians.\n",
      "------------------------------------------------------------------------------------------\n",
      "The quantitative variable is: Parch\n",
      "          min  max      mean       var       std\n",
      "Survived                                        \n",
      "0           0    6  0.329690  0.677602  0.823166\n",
      "1           0    5  0.464912  0.595539  0.771712\n"
     ]
    },
    {
     "data": {
      "image/png": "[encoded data removed]",
      "text/plain": [
       "<Figure size 600x400 with 1 Axes>"
      ]
     },
     "metadata": {},
     "output_type": "display_data"
    },
    {
     "name": "stdout",
     "output_type": "stream",
     "text": [
      "Mann-Whitney U test for Parch:\n",
      "Statistic: 105373.0\n",
      "P-value: 3.712490908378456e-05\n",
      "There is a statistically significant difference in the medians.\n",
      "------------------------------------------------------------------------------------------\n",
      "The quantitative variable is: Fare\n",
      "          min       max       mean          var        std\n",
      "Survived                                                  \n",
      "0         0.0  263.0000  22.117887   985.219509  31.388207\n",
      "1         0.0  512.3292  48.395408  4435.160158  66.596998\n"
     ]
    },
    {
     "data": {
      "image/png": "[encoded data removed]",
      "text/plain": [
       "<Figure size 600x400 with 1 Axes>"
      ]
     },
     "metadata": {},
     "output_type": "display_data"
    },
    {
     "name": "stdout",
     "output_type": "stream",
     "text": [
      "Mann-Whitney U test for Fare:\n",
      "Statistic: 129951.5\n",
      "P-value: 4.553477179250237e-22\n",
      "There is a statistically significant difference in the medians.\n",
      "------------------------------------------------------------------------------------------\n"
     ]
    }
   ],
   "source": [
    "# visualization and statistical measures approach\n",
    "# Summary measures for quantitative independent features and label to search for relationships\n",
    "for var in quantitative_vars:\n",
    "    print('The quantitative variable is:', var)\n",
    "    print(train_set.groupby('Survived')[var].agg(['min', 'max', 'mean', 'var', 'std']))\n",
    "    \n",
    "    # Create a boxplot\n",
    "    plt.figure(figsize=(6, 4))\n",
    "    sns.boxplot(x='Survived', y=var, data=train_set)\n",
    "    plt.title(f'Boxplot of {var} by \"Survived\"')\n",
    "    plt.xlabel('Survived')\n",
    "    plt.ylabel(var)\n",
    "    plt.show()\n",
    "    \n",
    "    # Perform the Mann-Whitney U test\n",
    "    group1 = train_set[train_set['Survived'] == 1][var]\n",
    "    group2 = train_set[train_set['Survived'] == 0][var]\n",
    "    statistic, p_value = stats.mannwhitneyu(group1, group2)\n",
    "    \n",
    "    # Print the results of the Mann-Whitney U test\n",
    "    print(f'Mann-Whitney U test for {var}:')\n",
    "    print(f'Statistic: {statistic}')\n",
    "    print(f'P-value: {p_value}')\n",
    "    \n",
    "    if p_value < 0.05:  # Define an appropriate significance level\n",
    "        print('There is a statistically significant difference in the medians.')\n",
    "    else:\n",
    "        print('There is no statistically significant difference in the medians.')\n",
    "    \n",
    "    print('------------------------------------------------------------------------------------------')"
   ]
  },
  {
   "cell_type": "markdown",
   "metadata": {},
   "source": [
    "## Preprocessing\n",
    "\n",
    "Based on what we have seen in exploratory data analysis, we gonna make some transformations in the data to be able to fit them in the gradient boost model."
   ]
  },
  {
   "cell_type": "code",
   "execution_count": 11,
   "metadata": {},
   "outputs": [],
   "source": [
    "# select only the features that we are going to use\n",
    "X = train_set.drop(['Survived'], axis=1)\n",
    "y = train_set['Survived']"
   ]
  },
  {
   "cell_type": "code",
   "execution_count": 12,
   "metadata": {},
   "outputs": [],
   "source": [
    "class DropVariables(BaseEstimator, TransformerMixin):\n",
    "    def __init__(self, columns_to_delete):\n",
    "        self.columns_to_delete = columns_to_delete\n",
    "\n",
    "    def fit(self, X, y=None):\n",
    "        return self\n",
    "\n",
    "    def transform(self, X):\n",
    "        return X.drop(self.columns_to_delete, axis=1)\n",
    "    \n",
    "    def get_feature_names_out(self, input_features=None):\n",
    "        if input_features is None:\n",
    "            return None\n",
    "        return [feat for feat in input_features if feat not in self.columns_to_delete]"
   ]
  },
  {
   "cell_type": "code",
   "execution_count": 13,
   "metadata": {},
   "outputs": [],
   "source": [
    "features_to_drop = [\n",
    "    'PassengerId',\n",
    "    'Name',\n",
    "    'Ticket',\n",
    "    'Cabin'\n",
    "]"
   ]
  },
  {
   "cell_type": "code",
   "execution_count": 14,
   "metadata": {},
   "outputs": [],
   "source": [
    "qualitative_preproc = make_pipeline(\n",
    "    SimpleImputer(strategy='most_frequent'),\n",
    "    OneHotEncoder(drop='first', handle_unknown='ignore'))\n",
    "\n",
    "quantitative_preproc = make_pipeline(\n",
    "    SimpleImputer(strategy='constant', fill_value=-1))\n",
    "\n",
    "drop_features_preproc = make_pipeline(\n",
    "    DropVariables(features_to_drop))\n",
    "\n",
    "preprocessor = ColumnTransformer([\n",
    "    ('features_to_drop', drop_features_preproc, features_to_drop),\n",
    "    ('qualitative_preproc', qualitative_preproc, qualitative_features_enconding),\n",
    "    ('quantitative_preproc', quantitative_preproc, quantitative_features)],\n",
    "    remainder='passthrough')"
   ]
  },
  {
   "cell_type": "markdown",
   "metadata": {},
   "source": [
    "## Gradient Boosting\n",
    "\n",
    "A very popular boosting algorithm is gradient boosting. Gradient boosting sequentially adds predictors to a set, each correcting its predecessor. This method tries to adjust the new predictor to the residual errors made by the previous predictor.\n",
    "\n",
    "Let's look at a simple regression example, using decision trees as base predictors:\n",
    "\n",
    "* tree_reg1 = DecisionTreeRegressor(max_depth=2)\n",
    "* tree_reg1.fit(X, y)\n",
    "\n",
    "We will then train a second DecisionTreeRegressor on the residual errors made by the first predictor:\n",
    "\n",
    "* y2 = y - tree_reg1.predict(X)\n",
    "* tree_reg2 = DecisionTreeRegressor(max_depth=2)\n",
    "* tree_reg2.fit(X, y2)\n",
    "\n",
    "Then, we will train a third regressor on the residual errors made by the second predictor:\n",
    "\n",
    "* y3 = y2 - tree_reg2.predict(X)\n",
    "* tree_reg3 = DecisionTreeRegressor(max_depth=2)\n",
    "* tree_reg3.fit(X, y3)\n",
    "\n",
    "Now, we have a cluster with 3 trees. It can make predictions on a new instance by simply adding the predictions from all trees:\n",
    "\n",
    "* y_pred = sum(tree.predict(X_new) for tree in (tree_reg1, tree_reg2, tree_reg3))\n",
    "\n",
    "Each tree is nudging the approximation closer and closer to the real target value."
   ]
  },
  {
   "cell_type": "code",
   "execution_count": 15,
   "metadata": {},
   "outputs": [
    {
     "data": {
      "text/plain": [
       "0.6161616161616161"
      ]
     },
     "execution_count": 15,
     "metadata": {},
     "output_type": "execute_result"
    }
   ],
   "source": [
    "# baseline that predicts only the majority class\n",
    "baseline = 1 - y.mean()\n",
    "baseline"
   ]
  },
  {
   "cell_type": "code",
   "execution_count": 16,
   "metadata": {},
   "outputs": [],
   "source": [
    "def run_classifier_models(X, y, cv, scoring):\n",
    "    '''Function that trains the following machine learning models:\n",
    "    RandomForestClassifier, DecisionTreeClassifier, SGDClassifier, SVC,\n",
    "    LGBMClassifier, GaussianNB.\n",
    "    The function applies cross-validation on the dataset and returns the average\n",
    "    of the selected metric on the training and validation sets.\n",
    "    The only active metrics are Accuracy and F1 score.\n",
    "    Experiments with the models are logged with MLflow.\n",
    "    \n",
    "    :param X: (dataframe or numpy array) \n",
    "    Dataframe or array with the independent variables.\n",
    "    \n",
    "    :param y: (series or numpy array)\n",
    "    Column or array with the dependent variable.\n",
    "    \n",
    "    :param cv: (int)\n",
    "    Determines the cross-validation splitting strategy.\n",
    "    \n",
    "    :param scoring: (str)\n",
    "    Strategy to evaluate the model's performance on the validation set during cross-validation.\n",
    "    Should be passed within quotes when calling the function.\n",
    "    '''\n",
    "    # Instantiate the models\n",
    "    gb = Pipeline(\n",
    "        steps=[('preprocessor', preprocessor), \n",
    "               ('gb', GradientBoostingClassifier(n_estimators=10, random_state=42))]\n",
    "    )\n",
    "    scores = cross_validate(gb, X, y, return_train_score=True,\n",
    "                            scoring=scoring, cv=cv, return_estimator=True)\n",
    "\n",
    "    # train and validation with accuracy\n",
    "    if scoring == 'accuracy':\n",
    "        log_train_acc = np.mean(scores['train_score'])\n",
    "        log_test_acc = np.mean(scores['test_score'])\n",
    "        mean_train = log_train_acc.mean()\n",
    "        mean_test = log_test_acc.mean()\n",
    "        std_train = log_train_acc.std()\n",
    "        std_test = log_test_acc.std()\n",
    "\n",
    "    # train and validation with f1\n",
    "    if scoring == 'f1':\n",
    "        log_train_f1 = np.mean(scores['train_score'])\n",
    "        log_test_f1 = np.mean(scores['test_score'])\n",
    "        mean_train = log_train_f1.mean()\n",
    "        mean_test = log_test_f1.mean()\n",
    "        std_train = log_train_f1.std()\n",
    "        std_test = log_test_f1.std()\n",
    "\n",
    "    # Create final dataset\n",
    "    df_result = pd.DataFrame(\n",
    "        {'MEAN_TRAIN_SCORES': mean_train, \n",
    "         'MEAN_TEST_SCORES': mean_test, 'STD_TRAIN_SCORES': std_train, \n",
    "         'STD_TEST_SCORES': std_test}, index=[0])\n",
    "\n",
    "    return df_result"
   ]
  },
  {
   "cell_type": "code",
   "execution_count": 17,
   "metadata": {},
   "outputs": [
    {
     "data": {
      "text/html": [
       "<div>\n",
       "<style scoped>\n",
       "    .dataframe tbody tr th:only-of-type {\n",
       "        vertical-align: middle;\n",
       "    }\n",
       "\n",
       "    .dataframe tbody tr th {\n",
       "        vertical-align: top;\n",
       "    }\n",
       "\n",
       "    .dataframe thead th {\n",
       "        text-align: right;\n",
       "    }\n",
       "</style>\n",
       "<table border=\"1\" class=\"dataframe\">\n",
       "  <thead>\n",
       "    <tr style=\"text-align: right;\">\n",
       "      <th></th>\n",
       "      <th>MEAN_TRAIN_SCORES</th>\n",
       "      <th>MEAN_TEST_SCORES</th>\n",
       "      <th>STD_TRAIN_SCORES</th>\n",
       "      <th>STD_TEST_SCORES</th>\n",
       "    </tr>\n",
       "  </thead>\n",
       "  <tbody>\n",
       "    <tr>\n",
       "      <th>0</th>\n",
       "      <td>0.820426</td>\n",
       "      <td>0.799102</td>\n",
       "      <td>0.0</td>\n",
       "      <td>0.0</td>\n",
       "    </tr>\n",
       "  </tbody>\n",
       "</table>\n",
       "</div>"
      ],
      "text/plain": [
       "   MEAN_TRAIN_SCORES  MEAN_TEST_SCORES  STD_TRAIN_SCORES  STD_TEST_SCORES\n",
       "0           0.820426          0.799102               0.0              0.0"
      ]
     },
     "execution_count": 17,
     "metadata": {},
     "output_type": "execute_result"
    }
   ],
   "source": [
    "# Run classifiers\n",
    "df_result = run_classifier_models(X, y, 5, 'accuracy')\n",
    "df_result"
   ]
  },
  {
   "cell_type": "markdown",
   "metadata": {},
   "source": [
    "We have a bit of overfitting but the model seems to perform well."
   ]
  },
  {
   "cell_type": "markdown",
   "metadata": {},
   "source": [
    "## Hyperparameter tuning"
   ]
  },
  {
   "cell_type": "code",
   "execution_count": 18,
   "metadata": {},
   "outputs": [
    {
     "name": "stdout",
     "output_type": "stream",
     "text": [
      "The best hyperparameters were: {'gb__max_depth': 3, 'gb__max_leaf_nodes': 5}\n"
     ]
    }
   ],
   "source": [
    "# Hyperparameter tunning\n",
    "# 1. Instantiate the pipeline\n",
    "final_model = Pipeline(\n",
    "    steps=[\n",
    "        ('preprocessor', preprocessor), \n",
    "        ('gb', GradientBoostingClassifier(n_estimators=10, random_state=42))\n",
    "    ]\n",
    ")\n",
    "\n",
    "# 2. Hyperparameter interval to be tested\n",
    "param_grid = {\n",
    "    'gb__max_depth': [1, 2, 3],\n",
    "    # 'dt__max_features': [1, 2, 3, 4, 5, 6, 7, 8, None],\n",
    "    'gb__max_leaf_nodes': [1, 2, 3, 4, 5, 6, 7, 8, 9, 10, None]\n",
    "} # you should try as many values as possible, but to illustrate we gonna put a heavy weight\n",
    "\n",
    "# 3. Training and apply grid search with cross validation\n",
    "grid_search = GridSearchCV(final_model, param_grid, cv = 5, scoring = 'accuracy',\n",
    "                           return_train_score = True)\n",
    "grid_search.fit(X, y)\n",
    "\n",
    "# Seeing the best hyperparameters for the model\n",
    "print('The best hyperparameters were:', grid_search.best_params_)"
   ]
  },
  {
   "cell_type": "code",
   "execution_count": 19,
   "metadata": {},
   "outputs": [
    {
     "name": "stdout",
     "output_type": "stream",
     "text": [
      "The mean test score and mean train score is, respectively: (0.7991023790094784, 0.8204264304962414)\n"
     ]
    }
   ],
   "source": [
    "cvres = grid_search.cv_results_\n",
    "cvres = [(mean_test_score,\n",
    "            mean_train_score) for mean_test_score,\n",
    "            mean_train_score in sorted(zip(cvres['mean_test_score'],\n",
    "                                        cvres['mean_train_score']),\n",
    "                                    reverse=True) if (math.isnan(mean_test_score) != True)]\n",
    "print(\n",
    "    'The mean test score and mean train score is, respectively:',\n",
    "    cvres[0])"
   ]
  },
  {
   "cell_type": "markdown",
   "metadata": {},
   "source": [
    "We were unable to improve accuracy or reduce overfitting, as that is not the objective here, let's move on!"
   ]
  },
  {
   "cell_type": "markdown",
   "metadata": {},
   "source": [
    "## Global Interpretation\n",
    "\n",
    "Global explanation = feature importance\n",
    "\n",
    "To quantify feature importance, we need two things:\n",
    "\n",
    "* A metric to quantify the gain at each split.\n",
    "* A way to calculate the feature gain across all trees in the ensemble.\n",
    "\n",
    "In gradient boosting machines, we look at all the trees as if they were one massive tree together."
   ]
  },
  {
   "cell_type": "markdown",
   "metadata": {},
   "source": [
    "### Feature importance"
   ]
  },
  {
   "cell_type": "code",
   "execution_count": 20,
   "metadata": {},
   "outputs": [
    {
     "data": {
      "text/html": [
       "<div>\n",
       "<style scoped>\n",
       "    .dataframe tbody tr th:only-of-type {\n",
       "        vertical-align: middle;\n",
       "    }\n",
       "\n",
       "    .dataframe tbody tr th {\n",
       "        vertical-align: top;\n",
       "    }\n",
       "\n",
       "    .dataframe thead th {\n",
       "        text-align: right;\n",
       "    }\n",
       "</style>\n",
       "<table border=\"1\" class=\"dataframe\">\n",
       "  <thead>\n",
       "    <tr style=\"text-align: right;\">\n",
       "      <th></th>\n",
       "      <th>feature_importances</th>\n",
       "    </tr>\n",
       "  </thead>\n",
       "  <tbody>\n",
       "    <tr>\n",
       "      <th>qualitative_preproc__Embarked_Q</th>\n",
       "      <td>0.000000</td>\n",
       "    </tr>\n",
       "    <tr>\n",
       "      <th>qualitative_preproc__Embarked_S</th>\n",
       "      <td>0.016074</td>\n",
       "    </tr>\n",
       "    <tr>\n",
       "      <th>qualitative_preproc__Sex_male</th>\n",
       "      <td>0.693128</td>\n",
       "    </tr>\n",
       "    <tr>\n",
       "      <th>quantitative_preproc__Age</th>\n",
       "      <td>0.003626</td>\n",
       "    </tr>\n",
       "    <tr>\n",
       "      <th>quantitative_preproc__SibSp</th>\n",
       "      <td>0.000000</td>\n",
       "    </tr>\n",
       "    <tr>\n",
       "      <th>quantitative_preproc__Parch</th>\n",
       "      <td>0.008220</td>\n",
       "    </tr>\n",
       "    <tr>\n",
       "      <th>quantitative_preproc__Fare</th>\n",
       "      <td>0.079224</td>\n",
       "    </tr>\n",
       "    <tr>\n",
       "      <th>remainder__Pclass</th>\n",
       "      <td>0.199728</td>\n",
       "    </tr>\n",
       "  </tbody>\n",
       "</table>\n",
       "</div>"
      ],
      "text/plain": [
       "                                 feature_importances\n",
       "qualitative_preproc__Embarked_Q             0.000000\n",
       "qualitative_preproc__Embarked_S             0.016074\n",
       "qualitative_preproc__Sex_male               0.693128\n",
       "quantitative_preproc__Age                   0.003626\n",
       "quantitative_preproc__SibSp                 0.000000\n",
       "quantitative_preproc__Parch                 0.008220\n",
       "quantitative_preproc__Fare                  0.079224\n",
       "remainder__Pclass                           0.199728"
      ]
     },
     "execution_count": 20,
     "metadata": {},
     "output_type": "execute_result"
    }
   ],
   "source": [
    "global_exp = pd.DataFrame()\n",
    "\n",
    "gb = grid_search.best_estimator_.named_steps['gb']\n",
    "global_exp['feature_importances'] = gb.feature_importances_\n",
    "global_exp.index = grid_search.best_estimator_.named_steps['preprocessor'].get_feature_names_out()\n",
    "\n",
    "global_exp"
   ]
  },
  {
   "cell_type": "code",
   "execution_count": 21,
   "metadata": {},
   "outputs": [
    {
     "data": {
      "image/png": "[encoded data removed]",
      "text/plain": [
       "<Figure size 1000x600 with 1 Axes>"
      ]
     },
     "metadata": {},
     "output_type": "display_data"
    }
   ],
   "source": [
    "# Sort the DataFrame by the 'feature_importances' column in descending order and plot it\n",
    "global_exp_sorted = global_exp.sort_values(by='feature_importances', ascending=False)\n",
    "plt.figure(figsize=(10, 6))  # Adjust the figure size as needed\n",
    "plt.bar(global_exp_sorted.index, global_exp_sorted['feature_importances'])\n",
    "plt.ylabel(\"Feature importance\")\n",
    "plt.title(\"Feature importance - Global explanations\")\n",
    "plt.xticks(rotation=90)  # Rotate x-axis labels for better readability\n",
    "plt.show()"
   ]
  },
  {
   "cell_type": "markdown",
   "metadata": {},
   "source": [
    "Above the calculated importance of each variable."
   ]
  },
  {
   "cell_type": "markdown",
   "metadata": {},
   "source": [
    "## Conclusion\n",
    "\n",
    "**Credits**\n",
    "\n",
    "https://www.trainindata.com/"
   ]
  }
 ],
 "metadata": {
  "kernelspec": {
   "display_name": "venv",
   "language": "python",
   "name": "python3"
  },
  "language_info": {
   "codemirror_mode": {
    "name": "ipython",
    "version": 3
   },
   "file_extension": ".py",
   "mimetype": "text/x-python",
   "name": "python",
   "nbconvert_exporter": "python",
   "pygments_lexer": "ipython3",
   "version": "3.10.11"
  }
 },
 "nbformat": 4,
 "nbformat_minor": 2
}
